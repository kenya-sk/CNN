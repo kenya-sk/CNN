{
 "cells": [
  {
   "cell_type": "code",
   "execution_count": 1,
   "metadata": {
    "collapsed": false
   },
   "outputs": [],
   "source": [
    "%matplotlib inline\n",
    "import numpy as np\n",
    "import tensorflow as tf"
   ]
  },
  {
   "cell_type": "code",
   "execution_count": 18,
   "metadata": {
    "collapsed": false
   },
   "outputs": [],
   "source": [
    "# 変数定義\n",
    "sess = tf.Session()\n",
    "sess.run(tf.global_variables_initializer())\n",
    "\n",
    "dim = 72*72*3\n",
    "with tf.name_scope(\"X\"):\n",
    "    x = tf.placeholder(tf.float32, [None, dim])\n",
    "    \n",
    "with tf.name_scope(\"W\"):\n",
    "    w = tf.Variable(tf.zeros([dim, 1]))\n",
    "    \n",
    "with tf.name_scope(\"multi\"):\n",
    "    y = tf.matmul(x, w)\n",
    "    \n",
    "with tf.name_scope(\"T\"):\n",
    "    t = tf.placeholder(tf.float32, [None, 1])\n",
    "    "
   ]
  },
  {
   "cell_type": "code",
   "execution_count": 19,
   "metadata": {
    "collapsed": true
   },
   "outputs": [],
   "source": [
    "# 重みを標準偏差0.1の正規分布で初期化\n",
    "def weight_variable(shape):\n",
    "    initial = tf.truncated_normal(shape, stddev=0.1)\n",
    "    return tf.Variable(initial)"
   ]
  },
  {
   "cell_type": "code",
   "execution_count": 20,
   "metadata": {
    "collapsed": false
   },
   "outputs": [],
   "source": [
    "# バイアスを標準偏差0.1の正規分布で初期化\n",
    "def bias_variable(shape):\n",
    "    initial = tf.constant(0.1, shape=shape)\n",
    "    return tf.Variable(initial)"
   ]
  },
  {
   "cell_type": "code",
   "execution_count": 37,
   "metadata": {
    "collapsed": true
   },
   "outputs": [],
   "source": [
    "# 畳み込み層\n",
    "def conv2d(x, W):\n",
    "    return tf.nn.conv2d(x, W, strides=[1, 1, 1, 1], padding=\"SAME\")"
   ]
  },
  {
   "cell_type": "code",
   "execution_count": 22,
   "metadata": {
    "collapsed": true
   },
   "outputs": [],
   "source": [
    "# プーリング層\n",
    "def max_pool_2x2(x):\n",
    "    return tf.nn.max_pool(x, ksize=[1, 2, 2, 1], strides=[1, 2, 2, 1], padding=\"SAME\")"
   ]
  },
  {
   "cell_type": "code",
   "execution_count": 23,
   "metadata": {
    "collapsed": false
   },
   "outputs": [],
   "source": [
    "# 第一層\n",
    "# convlution -> ReLU -> max pooling\n",
    "# input 72x72x3 -> output 36x36x32\n",
    "\n",
    "# 7x7x3 filter\n",
    "with tf.name_scope(\"conv1\"):\n",
    "    W_conv1 = weight_variable([7,7,3,32])\n",
    "    b_conv1 = bias_variable([32])\n",
    "    x_image = tf.reshape(x, [-1, 72, 72, 3])\n",
    "    h_conv1 = tf.nn.relu(conv2d(x_image, W_conv1) + b_conv1)\n",
    "\n",
    "with tf.name_scope(\"pool1\"):\n",
    "    h_pool1 = max_pool_2x2(h_conv1)"
   ]
  },
  {
   "cell_type": "code",
   "execution_count": 24,
   "metadata": {
    "collapsed": true
   },
   "outputs": [],
   "source": [
    "# 第二層\n",
    "# convlution -> ReLU -> max pooling\n",
    "# input 36x36x32 -> output 18x18x32\n",
    "\n",
    "# 7x7x32 filter\n",
    "with tf.name_scope(\"conv2\"):\n",
    "    W_conv2 = weight_variable([7,7,32,32])\n",
    "    b_conv2 = bias_variable([32])\n",
    "    h_conv2 = tf.nn.relu(conv2d(h_pool1, W_conv2) + b_conv2)\n",
    "    \n",
    "with tf.name_scope(\"pool2\"):\n",
    "    h_pool2 = max_pool_2x2(h_conv2)"
   ]
  },
  {
   "cell_type": "code",
   "execution_count": 25,
   "metadata": {
    "collapsed": true
   },
   "outputs": [],
   "source": [
    "# 第三層\n",
    "# convolution -> ReLU\n",
    "# input 18x18x32 -> output 18x18x64\n",
    "\n",
    "# 5x5x32 filter\n",
    "with tf.name_scope(\"conv3\"):\n",
    "    W_conv3 = weight_variable([5,5,32,64])\n",
    "    b_conv3 = bias_variable([64])\n",
    "    h_conv3 = tf.nn.relu(conv2d(h_pool2, W_conv3) + b_conv3)"
   ]
  },
  {
   "cell_type": "code",
   "execution_count": 26,
   "metadata": {
    "collapsed": false
   },
   "outputs": [],
   "source": [
    "# 第四層\n",
    "# fully connected layer\n",
    "# input 18x18x64 -> output 1000\n",
    "\n",
    "with tf.name_scope(\"fc4\"):\n",
    "    W_fc4 = weight_variable([18*18*64, 1000])\n",
    "    b_fc4 = bias_variable([1000])\n",
    "    h_conv3_flat = tf.reshape(h_conv3, [-1, 18*18*64])\n",
    "    h_fc4 = tf.nn.relu(tf.matmul(h_conv3_flat, W_fc4) + b_fc4)"
   ]
  },
  {
   "cell_type": "code",
   "execution_count": 27,
   "metadata": {
    "collapsed": false
   },
   "outputs": [],
   "source": [
    "# 第五層\n",
    "# fully connected layer\n",
    "# input 1000 -> output 400\n",
    "\n",
    "with tf.name_scope(\"fc5\"):\n",
    "    W_fc5 = weight_variable([1000, 400])\n",
    "    b_fc5 = bias_variable([400])\n",
    "    h_fc5 = tf.nn.relu(tf.matmul(h_fc4, W_fc5) + b_fc5)"
   ]
  },
  {
   "cell_type": "code",
   "execution_count": 35,
   "metadata": {
    "collapsed": true
   },
   "outputs": [],
   "source": [
    "# 第六層\n",
    "# fully connected layer\n",
    "# input 400 -> output 324\n",
    "\n",
    "with tf.name_scope(\"fc6\"):\n",
    "    W_fc6 = weight_variable([400, 324])\n",
    "    b_fc6 = bias_variable([324])\n",
    "    h_fc6 = tf.nn.relu(tf.matmul(h_fc5, W_fc6) + b_fc6) "
   ]
  },
  {
   "cell_type": "code",
   "execution_count": 36,
   "metadata": {
    "collapsed": false
   },
   "outputs": [],
   "source": [
    "# 画像の形にリサイズ(18x18)\n",
    "output = tf.reshape(h_fc6, [18, 18])"
   ]
  },
  {
   "cell_type": "code",
   "execution_count": null,
   "metadata": {
    "collapsed": true
   },
   "outputs": [],
   "source": []
  }
 ],
 "metadata": {
  "anaconda-cloud": {},
  "kernelspec": {
   "display_name": "Python [conda env:anaconda3-4.2.0]",
   "language": "python",
   "name": "conda-env-anaconda3-4.2.0-py"
  },
  "language_info": {
   "codemirror_mode": {
    "name": "ipython",
    "version": 3
   },
   "file_extension": ".py",
   "mimetype": "text/x-python",
   "name": "python",
   "nbconvert_exporter": "python",
   "pygments_lexer": "ipython3",
   "version": "3.5.2"
  }
 },
 "nbformat": 4,
 "nbformat_minor": 1
}
